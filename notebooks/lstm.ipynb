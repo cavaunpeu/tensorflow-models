{
 "cells": [
  {
   "cell_type": "code",
   "execution_count": 1,
   "metadata": {
    "collapsed": true
   },
   "outputs": [],
   "source": [
    "%load_ext autoreload\n",
    "%autoreload 2"
   ]
  },
  {
   "cell_type": "code",
   "execution_count": 36,
   "metadata": {
    "collapsed": false
   },
   "outputs": [],
   "source": [
    "import random\n",
    "\n",
    "import numpy as np\n",
    "import tensorflow as tf\n",
    "\n",
    "from helpers.dataset import TensorFlowDataset, import_zip_file\n",
    "from helpers.evaluate import TensorFlowModelEvaluator\n",
    "from models.rnn import LSTM\n",
    "from vanilla_neural_nets.recurrent_neural_network.training_data import WordLevelRNNTrainingDataBuilder"
   ]
  },
  {
   "cell_type": "markdown",
   "metadata": {},
   "source": [
    "# Create some data"
   ]
  },
  {
   "cell_type": "code",
   "execution_count": 3,
   "metadata": {
    "collapsed": true
   },
   "outputs": [],
   "source": [
    "PATH = '../data/text8.zip'\n",
    "N_CLASSES = VOCABULARY_SIZE = 1000\n",
    "BATCH_SIZE = 128\n",
    "TIME_STEPS = 10\n",
    "TRAINING_EXAMPLES = BATCH_SIZE * 50"
   ]
  },
  {
   "cell_type": "code",
   "execution_count": 4,
   "metadata": {
    "collapsed": false
   },
   "outputs": [],
   "source": [
    "corpus = import_zip_file(path=PATH, n_characters=1000000)"
   ]
  },
  {
   "cell_type": "code",
   "execution_count": 5,
   "metadata": {
    "collapsed": false
   },
   "outputs": [],
   "source": [
    "training_data = WordLevelRNNTrainingDataBuilder.build(corpus=corpus, vocabulary_size=VOCABULARY_SIZE)\n",
    "training_data = np.array(training_data.training_data_as_indices[0][:TRAINING_EXAMPLES*(TIME_STEPS+1)])\n",
    "training_data = training_data.reshape(TRAINING_EXAMPLES, TIME_STEPS+1)"
   ]
  },
  {
   "cell_type": "code",
   "execution_count": 6,
   "metadata": {
    "collapsed": false
   },
   "outputs": [],
   "source": [
    "training_dataset = TensorFlowDataset(\n",
    "    data=training_data[:BATCH_SIZE*48, :TIME_STEPS], \n",
    "    labels=training_data[:BATCH_SIZE*48, 1:]\n",
    ")\n",
    "\n",
    "validation_dataset = TensorFlowDataset(\n",
    "    data=training_data[BATCH_SIZE*48:BATCH_SIZE*49, :TIME_STEPS], \n",
    "    labels=training_data[BATCH_SIZE*48:BATCH_SIZE*49, 1:]\n",
    ")\n",
    "\n",
    "test_dataset = TensorFlowDataset(\n",
    "    data=training_data[BATCH_SIZE*49:, :TIME_STEPS], \n",
    "    labels=training_data[BATCH_SIZE*49:, 1:]\n",
    ")"
   ]
  },
  {
   "cell_type": "code",
   "execution_count": 7,
   "metadata": {
    "collapsed": true
   },
   "outputs": [],
   "source": [
    "HIDDEN_STATE_SIZE = 100\n",
    "LEARNING_RATE = .1\n",
    "N_EPOCHS = int(1e8)"
   ]
  },
  {
   "cell_type": "markdown",
   "metadata": {},
   "source": [
    "# Define graph"
   ]
  },
  {
   "cell_type": "code",
   "execution_count": 37,
   "metadata": {
    "collapsed": false
   },
   "outputs": [],
   "source": [
    "graph = tf.Graph()\n",
    "\n",
    "with graph.as_default():\n",
    "    \n",
    "    dataset = TensorFlowDataset(\n",
    "        data=tf.placeholder(dtype=tf.int32, shape=[BATCH_SIZE, TIME_STEPS]),\n",
    "        labels=tf.placeholder(dtype=tf.int32, shape=[BATCH_SIZE, TIME_STEPS])\n",
    "    )\n",
    "    \n",
    "    model = LSTM(\n",
    "        dataset=dataset, \n",
    "        n_classes=N_CLASSES, \n",
    "        hidden_state_size=HIDDEN_STATE_SIZE,\n",
    "        learning_rate=LEARNING_RATE\n",
    "    )"
   ]
  },
  {
   "cell_type": "code",
   "execution_count": 38,
   "metadata": {
    "collapsed": false
   },
   "outputs": [
    {
     "name": "stdout",
     "output_type": "stream",
     "text": [
      "Epoch: 0\n",
      "Train Loss: 7.195\n",
      "Validation Loss: 7.221\n",
      "\n",
      "Epoch: 1\n",
      "Train Loss: 7.161\n",
      "Validation Loss: 7.197\n",
      "\n",
      "Epoch: 2\n",
      "Train Loss: 7.103\n",
      "Validation Loss: 7.173\n",
      "\n",
      "Epoch: 3\n",
      "Train Loss: 7.057\n",
      "Validation Loss: 7.150\n",
      "\n",
      "Epoch: 4\n",
      "Train Loss: 7.112\n",
      "Validation Loss: 7.130\n",
      "\n",
      "Epoch: 5\n",
      "Train Loss: 7.050\n",
      "Validation Loss: 7.109\n",
      "\n",
      "Epoch: 6\n",
      "Train Loss: 7.023\n",
      "Validation Loss: 7.087\n",
      "\n",
      "Epoch: 7\n",
      "Train Loss: 6.979\n",
      "Validation Loss: 7.066\n",
      "\n",
      "Epoch: 8\n",
      "Train Loss: 7.024\n",
      "Validation Loss: 7.045\n",
      "\n",
      "Epoch: 9\n",
      "Train Loss: 6.955\n",
      "Validation Loss: 7.023\n",
      "\n",
      "Test Loss: 6.970\n",
      "\n"
     ]
    }
   ],
   "source": [
    "with tf.Session(graph=graph) as session:\n",
    "\n",
    "    session.run(tf.initialize_all_variables())\n",
    "\n",
    "    evaluator = TensorFlowModelEvaluator(\n",
    "        model=model,\n",
    "        session=session,\n",
    "        validation_dataset=validation_dataset,\n",
    "        test_dataset=test_dataset\n",
    "    )\n",
    "\n",
    "    for epoch in range(N_EPOCHS):\n",
    "        \n",
    "        if epoch % int(1e7) == 0:\n",
    "\n",
    "            mini_batch_data, mini_batch_labels = training_dataset.sample(BATCH_SIZE)\n",
    "            mini_batch_dataset = TensorFlowDataset(data=mini_batch_data, labels=mini_batch_labels)\n",
    "            evaluator.optimize(mini_batch_dataset)\n",
    "\n",
    "            print('Epoch: {}'.format( int(epoch / 1e7) ))\n",
    "            print('Train Loss: {:.3f}'.format(evaluator.training_loss))\n",
    "            print('Validation Loss: {:.3f}\\n'.format(evaluator.validation_loss))\n",
    "\n",
    "    print('Test Loss: {0:.3f}\\n'.format(evaluator.test_loss))"
   ]
  }
 ],
 "metadata": {
  "kernelspec": {
   "display_name": "Python 3",
   "language": "python",
   "name": "python3"
  },
  "language_info": {
   "codemirror_mode": {
    "name": "ipython",
    "version": 3
   },
   "file_extension": ".py",
   "mimetype": "text/x-python",
   "name": "python",
   "nbconvert_exporter": "python",
   "pygments_lexer": "ipython3",
   "version": "3.5.1"
  }
 },
 "nbformat": 4,
 "nbformat_minor": 1
}
