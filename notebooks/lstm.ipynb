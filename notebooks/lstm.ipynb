{
 "cells": [
  {
   "cell_type": "code",
   "execution_count": 1,
   "metadata": {
    "collapsed": true
   },
   "outputs": [],
   "source": [
    "%load_ext autoreload\n",
    "%autoreload 2"
   ]
  },
  {
   "cell_type": "code",
   "execution_count": 2,
   "metadata": {
    "collapsed": false
   },
   "outputs": [],
   "source": [
    "import random\n",
    "\n",
    "import numpy as np\n",
    "import tensorflow as tf\n",
    "\n",
    "from helpers.dataset import TensorFlowDataset, import_zip_file\n",
    "from helpers.evaluate import TensorFlowModelEvaluator\n",
    "from models.rnn import LSTM\n",
    "from vanilla_neural_nets.recurrent_neural_network.training_data import WordLevelRNNTrainingDataBuilder"
   ]
  },
  {
   "cell_type": "markdown",
   "metadata": {},
   "source": [
    "# Create some data"
   ]
  },
  {
   "cell_type": "code",
   "execution_count": 3,
   "metadata": {
    "collapsed": true
   },
   "outputs": [],
   "source": [
    "PATH = '../data/text8.zip'\n",
    "N_CLASSES = VOCABULARY_SIZE = 1000\n",
    "BATCH_SIZE = 128\n",
    "TIME_STEPS = 10\n",
    "TRAINING_EXAMPLES = BATCH_SIZE * 50"
   ]
  },
  {
   "cell_type": "code",
   "execution_count": 4,
   "metadata": {
    "collapsed": false
   },
   "outputs": [],
   "source": [
    "corpus = import_zip_file(path=PATH, n_characters=1000000)"
   ]
  },
  {
   "cell_type": "code",
   "execution_count": 5,
   "metadata": {
    "collapsed": false
   },
   "outputs": [],
   "source": [
    "training_data = WordLevelRNNTrainingDataBuilder.build(corpus=corpus, vocabulary_size=VOCABULARY_SIZE)\n",
    "training_data = np.array(training_data.training_data_as_indices[0][:TRAINING_EXAMPLES*(TIME_STEPS+1)])\n",
    "training_data = training_data.reshape(TRAINING_EXAMPLES, TIME_STEPS+1)"
   ]
  },
  {
   "cell_type": "code",
   "execution_count": 6,
   "metadata": {
    "collapsed": false
   },
   "outputs": [],
   "source": [
    "training_dataset = TensorFlowDataset(\n",
    "    data=training_data[:BATCH_SIZE*48, :TIME_STEPS], \n",
    "    labels=training_data[:BATCH_SIZE*48, 1:]\n",
    ")\n",
    "\n",
    "validation_dataset = TensorFlowDataset(\n",
    "    data=training_data[BATCH_SIZE*48:BATCH_SIZE*49, :TIME_STEPS], \n",
    "    labels=training_data[BATCH_SIZE*48:BATCH_SIZE*49, 1:]\n",
    ")\n",
    "\n",
    "test_dataset = TensorFlowDataset(\n",
    "    data=training_data[BATCH_SIZE*49:, :TIME_STEPS], \n",
    "    labels=training_data[BATCH_SIZE*49:, 1:]\n",
    ")"
   ]
  },
  {
   "cell_type": "code",
   "execution_count": 7,
   "metadata": {
    "collapsed": true
   },
   "outputs": [],
   "source": [
    "EMBEDDING_LAYER_SIZE = 128\n",
    "HIDDEN_STATE_SIZE = 100\n",
    "LEARNING_RATE = .1\n",
    "N_EPOCHS = int(1e8)"
   ]
  },
  {
   "cell_type": "markdown",
   "metadata": {},
   "source": [
    "# Define graph"
   ]
  },
  {
   "cell_type": "code",
   "execution_count": 8,
   "metadata": {
    "collapsed": false
   },
   "outputs": [],
   "source": [
    "graph = tf.Graph()\n",
    "\n",
    "with graph.as_default():\n",
    "    \n",
    "    dataset = TensorFlowDataset(\n",
    "        data=tf.placeholder(dtype=tf.int32, shape=[BATCH_SIZE, TIME_STEPS]),\n",
    "        labels=tf.placeholder(dtype=tf.int32, shape=[BATCH_SIZE, TIME_STEPS])\n",
    "    )\n",
    "    \n",
    "    model = LSTM(\n",
    "        dataset=dataset, \n",
    "        n_classes=N_CLASSES,\n",
    "        embedding_layer_size=EMBEDDING_LAYER_SIZE,\n",
    "        hidden_state_size=HIDDEN_STATE_SIZE,\n",
    "        learning_rate=LEARNING_RATE\n",
    "    )"
   ]
  },
  {
   "cell_type": "code",
   "execution_count": 9,
   "metadata": {
    "collapsed": false
   },
   "outputs": [
    {
     "name": "stdout",
     "output_type": "stream",
     "text": [
      "Epoch: 0\n",
      "Train Loss: 7.368\n",
      "Validation Loss: 7.340\n",
      "\n",
      "Epoch: 1\n",
      "Train Loss: 7.218\n",
      "Validation Loss: 7.244\n",
      "\n",
      "Epoch: 2\n",
      "Train Loss: 7.135\n",
      "Validation Loss: 7.135\n",
      "\n",
      "Epoch: 3\n",
      "Train Loss: 7.008\n",
      "Validation Loss: 7.026\n",
      "\n",
      "Epoch: 4\n",
      "Train Loss: 6.914\n",
      "Validation Loss: 6.900\n",
      "\n",
      "Epoch: 5\n",
      "Train Loss: 6.797\n",
      "Validation Loss: 6.737\n",
      "\n",
      "Epoch: 6\n",
      "Train Loss: 6.528\n",
      "Validation Loss: 6.535\n",
      "\n",
      "Epoch: 7\n",
      "Train Loss: 6.352\n",
      "Validation Loss: 6.319\n",
      "\n",
      "Epoch: 8\n",
      "Train Loss: 6.085\n",
      "Validation Loss: 6.167\n",
      "\n",
      "Epoch: 9\n",
      "Train Loss: 5.875\n",
      "Validation Loss: 6.086\n",
      "\n",
      "Test Loss: 5.880\n",
      "\n"
     ]
    }
   ],
   "source": [
    "with tf.Session(graph=graph) as session:\n",
    "\n",
    "    session.run(tf.initialize_all_variables())\n",
    "\n",
    "    evaluator = TensorFlowModelEvaluator(\n",
    "        model=model,\n",
    "        session=session,\n",
    "        validation_dataset=validation_dataset,\n",
    "        test_dataset=test_dataset\n",
    "    )\n",
    "\n",
    "    for epoch in range(N_EPOCHS):\n",
    "        \n",
    "        if epoch % int(1e7) == 0:\n",
    "\n",
    "            mini_batch_data, mini_batch_labels = training_dataset.sample(BATCH_SIZE)\n",
    "            mini_batch_dataset = TensorFlowDataset(data=mini_batch_data, labels=mini_batch_labels)\n",
    "            evaluator.optimize(mini_batch_dataset)\n",
    "\n",
    "            print('Epoch: {}'.format( int(epoch / 1e7) ))\n",
    "            print('Train Loss: {:.3f}'.format(evaluator.training_loss))\n",
    "            print('Validation Loss: {:.3f}\\n'.format(evaluator.validation_loss))\n",
    "\n",
    "    print('Test Loss: {0:.3f}\\n'.format(evaluator.test_loss))"
   ]
  }
 ],
 "metadata": {
  "kernelspec": {
   "display_name": "Python 3",
   "language": "python",
   "name": "python3"
  },
  "language_info": {
   "codemirror_mode": {
    "name": "ipython",
    "version": 3
   },
   "file_extension": ".py",
   "mimetype": "text/x-python",
   "name": "python",
   "nbconvert_exporter": "python",
   "pygments_lexer": "ipython3",
   "version": "3.5.1"
  }
 },
 "nbformat": 4,
 "nbformat_minor": 1
}
