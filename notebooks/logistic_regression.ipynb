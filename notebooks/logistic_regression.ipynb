{
 "cells": [
  {
   "cell_type": "code",
   "execution_count": null,
   "metadata": {
    "collapsed": false
   },
   "outputs": [],
   "source": [
    "cd .."
   ]
  },
  {
   "cell_type": "code",
   "execution_count": 9,
   "metadata": {
    "collapsed": false,
    "scrolled": true
   },
   "outputs": [
    {
     "name": "stdout",
     "output_type": "stream",
     "text": [
      "Extracting data/train-images-idx3-ubyte.gz\n",
      "Extracting data/train-labels-idx1-ubyte.gz\n",
      "Extracting data/t10k-images-idx3-ubyte.gz\n",
      "Extracting data/t10k-labels-idx1-ubyte.gz\n"
     ]
    }
   ],
   "source": [
    "import tensorflow as tf\n",
    "\n",
    "from tensorflow.examples.tutorials.mnist import input_data\n",
    "mnist = input_data.read_data_sets('data', one_hot=True)"
   ]
  },
  {
   "cell_type": "code",
   "execution_count": 10,
   "metadata": {
    "collapsed": false
   },
   "outputs": [],
   "source": [
    "from helpers.dataset import TensorFlowDataset\n",
    "from helpers.evaluate import TensorFlowModelEvaluator\n",
    "from models.linear_model import LogisticRegression"
   ]
  },
  {
   "cell_type": "code",
   "execution_count": 11,
   "metadata": {
    "collapsed": false
   },
   "outputs": [],
   "source": [
    "training_dataset = TensorFlowDataset(data=mnist.train.images, labels=mnist.train.labels)\n",
    "validation_dataset = TensorFlowDataset(data=mnist.validation.images, labels=mnist.validation.labels)\n",
    "test_dataset = TensorFlowDataset(data=mnist.test.images, labels=mnist.test.labels)"
   ]
  },
  {
   "cell_type": "markdown",
   "metadata": {},
   "source": [
    "# Define hyperparameters"
   ]
  },
  {
   "cell_type": "code",
   "execution_count": 12,
   "metadata": {
    "collapsed": false
   },
   "outputs": [],
   "source": [
    "IMAGE_SIZE = 28\n",
    "NUM_LABELS = 10\n",
    "BATCH_SIZE = 128\n",
    "LEARNING_RATE = .5\n",
    "NUM_STEPS = 10000"
   ]
  },
  {
   "cell_type": "markdown",
   "metadata": {},
   "source": [
    "# Define graph"
   ]
  },
  {
   "cell_type": "code",
   "execution_count": 16,
   "metadata": {
    "collapsed": false
   },
   "outputs": [],
   "source": [
    "graph = tf.Graph()\n",
    "\n",
    "\n",
    "with graph.as_default():\n",
    "    \n",
    "    dataset = TensorFlowDataset(\n",
    "        data=tf.placeholder(dtype=tf.float32, shape=[None, IMAGE_SIZE**2]),\n",
    "        labels=tf.placeholder(dtype=tf.float32, shape=[None, NUM_LABELS])\n",
    "    )\n",
    "    \n",
    "    model = LogisticRegression(dataset=dataset, learning_rate=LEARNING_RATE)"
   ]
  },
  {
   "cell_type": "markdown",
   "metadata": {},
   "source": [
    "# Evaluate model"
   ]
  },
  {
   "cell_type": "code",
   "execution_count": 17,
   "metadata": {
    "collapsed": false
   },
   "outputs": [
    {
     "name": "stdout",
     "output_type": "stream",
     "text": [
      "Step: 0\n",
      "Mini-batch accuracy: 0.086%\n",
      "Validation accuracy: 0.080%\n",
      "\n",
      "Step: 1000\n",
      "Mini-batch accuracy: 0.852%\n",
      "Validation accuracy: 0.884%\n",
      "\n",
      "Step: 2000\n",
      "Mini-batch accuracy: 0.875%\n",
      "Validation accuracy: 0.901%\n",
      "\n",
      "Step: 3000\n",
      "Mini-batch accuracy: 0.922%\n",
      "Validation accuracy: 0.909%\n",
      "\n",
      "Step: 4000\n",
      "Mini-batch accuracy: 0.891%\n",
      "Validation accuracy: 0.913%\n",
      "\n",
      "Step: 5000\n",
      "Mini-batch accuracy: 0.930%\n",
      "Validation accuracy: 0.909%\n",
      "\n",
      "Step: 6000\n",
      "Mini-batch accuracy: 0.906%\n",
      "Validation accuracy: 0.915%\n",
      "\n",
      "Step: 7000\n",
      "Mini-batch accuracy: 0.953%\n",
      "Validation accuracy: 0.921%\n",
      "\n",
      "Step: 8000\n",
      "Mini-batch accuracy: 0.961%\n",
      "Validation accuracy: 0.920%\n",
      "\n",
      "Step: 9000\n",
      "Mini-batch accuracy: 0.898%\n",
      "Validation accuracy: 0.919%\n",
      "\n",
      "Test accuracy: 0.916%\n",
      "\n"
     ]
    }
   ],
   "source": [
    "with tf.Session(graph=graph) as session:\n",
    "\n",
    "    session.run(tf.initialize_all_variables())\n",
    "\n",
    "    evaluator = TensorFlowModelEvaluator(\n",
    "        model=model,\n",
    "        session=session,\n",
    "        validation_dataset=validation_dataset,\n",
    "        test_dataset=test_dataset\n",
    "    )\n",
    "\n",
    "    for step in range(NUM_STEPS):\n",
    "\n",
    "        mini_batch_data, mini_batch_labels = training_dataset.sample(BATCH_SIZE)\n",
    "        mini_batch_dataset = TensorFlowDataset(data=mini_batch_data, labels=mini_batch_labels)\n",
    "        evaluator.optimize(mini_batch_dataset)\n",
    "\n",
    "        if (step % 1000 == 0):\n",
    "\n",
    "            print('Step: {}'.format(step))\n",
    "            print('Mini-batch accuracy: {0:.3f}%'.format(evaluator.training_accuracy))\n",
    "            print('Validation accuracy: {0:.3f}%\\n'.format(evaluator.validation_accuracy))\n",
    "\n",
    "    print('Test accuracy: {0:.3f}%\\n'.format(evaluator.test_accuracy))"
   ]
  }
 ],
 "metadata": {
  "kernelspec": {
   "display_name": "Python 3",
   "language": "python",
   "name": "python3"
  },
  "language_info": {
   "codemirror_mode": {
    "name": "ipython",
    "version": 3
   },
   "file_extension": ".py",
   "mimetype": "text/x-python",
   "name": "python",
   "nbconvert_exporter": "python",
   "pygments_lexer": "ipython3",
   "version": "3.5.1"
  }
 },
 "nbformat": 4,
 "nbformat_minor": 1
}
